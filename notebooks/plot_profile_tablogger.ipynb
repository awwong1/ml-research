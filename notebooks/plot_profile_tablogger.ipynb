{
 "cells": [
  {
   "cell_type": "code",
   "execution_count": 8,
   "metadata": {},
   "outputs": [],
   "source": [
    "%matplotlib inline\n",
    "import sys\n",
    "sys.path.append(\"..\")"
   ]
  },
  {
   "cell_type": "code",
   "execution_count": 9,
   "metadata": {},
   "outputs": [],
   "source": [
    "import os\n",
    "import pandas as pd\n",
    "import seaborn as sns\n",
    "import matplotlib.pyplot as plt\n",
    "\n",
    "from util.tablogger import TabLogger"
   ]
  },
  {
   "cell_type": "code",
   "execution_count": 48,
   "metadata": {},
   "outputs": [],
   "source": [
    "# load the file from the experiments directories\n",
    "\n",
    "df = pd.DataFrame({})\n",
    "for model in (\"full\", \"minimal\"):\n",
    "    for batch_size in (1, 2, 4, 8, 16, 32, 64, 128, 256):    \n",
    "        fpath = os.path.join(\n",
    "            \"..\",\n",
    "            \"experiments\",\n",
    "            \"profile-{}-vgg19_bn\".format(model),\n",
    "            \"out\",\n",
    "            \"{}_batchsize_{}.out\".format(model,batch_size)\n",
    "        )\n",
    "        tlog = TabLogger(fpath, resume=True)\n",
    "        tlog.close()\n",
    "\n",
    "        # add the model column to the data dictionary\n",
    "        dd = tlog.numbers\n",
    "        dd[\"Model\"] = [\"VGG19_bn-\" + model] * len(list(dd.values())[0])\n",
    "        # convert all times from us (microseconds) to ms (milliseconds)\n",
    "        dd[\"Self CPU Time\"] = [t/1000 for t in dd[\"Self CPU Time\"]]\n",
    "        dd[\"CPU Time Total\"] = [t/1000 for t in dd[\"CPU Time Total\"]]\n",
    "        dd[\"CUDA Time Total\"] = [t/1000 for t in dd[\"CUDA Time Total\"]]\n",
    "        # convert batch size to integer\n",
    "        dd[\"Batch Size\"] = [int(t) for t in dd[\"Batch Size\"]]\n",
    "\n",
    "        # concat the dataframe\n",
    "        df = pd.concat([df, pd.DataFrame(dd)])"
   ]
  },
  {
   "cell_type": "code",
   "execution_count": 49,
   "metadata": {},
   "outputs": [
    {
     "name": "stdout",
     "output_type": "stream",
     "text": [
      "    Batch Size  Self CPU Time  CPU Time Total  CUDA Time Total  \\\n",
      "0            1      25.307330       96.819430              0.0   \n",
      "1            1      19.651107       74.940380              0.0   \n",
      "2            1      19.982992       76.030198              0.0   \n",
      "3            1      18.202660       69.058785              0.0   \n",
      "4            1      18.561267       70.643599              0.0   \n",
      "..         ...            ...             ...              ...   \n",
      "34         256      10.603339       38.762287              0.0   \n",
      "35         256      11.169460       40.836421              0.0   \n",
      "36         256      11.046308       40.381736              0.0   \n",
      "37         256      10.698790       38.964552              0.0   \n",
      "38         256       8.805159       32.251344              0.0   \n",
      "\n",
      "               Model  \n",
      "0      VGG19_bn-full  \n",
      "1      VGG19_bn-full  \n",
      "2      VGG19_bn-full  \n",
      "3      VGG19_bn-full  \n",
      "4      VGG19_bn-full  \n",
      "..               ...  \n",
      "34  VGG19_bn-minimal  \n",
      "35  VGG19_bn-minimal  \n",
      "36  VGG19_bn-minimal  \n",
      "37  VGG19_bn-minimal  \n",
      "38  VGG19_bn-minimal  \n",
      "\n",
      "[39920 rows x 5 columns]\n"
     ]
    }
   ],
   "source": [
    "print(df)"
   ]
  },
  {
   "cell_type": "code",
   "execution_count": 50,
   "metadata": {},
   "outputs": [
    {
     "data": {
      "image/png": "[encoded data removed]",
      "text/plain": [
       "<Figure size 432x288 with 1 Axes>"
      ]
     },
     "metadata": {
      "needs_background": "light"
     },
     "output_type": "display_data"
    }
   ],
   "source": [
    "# plot in Seaborn\n",
    "g = sns.boxplot(x=\"Batch Size\", y=\"Self CPU Time\", hue=\"Model\", palette=[\"b\", \"r\"], data=df)\n",
    "# g.set_yscale(\"log\")\n",
    "g.set(ylabel=\"CPU Inference Time (ms)\", title=\"VGG19_BN Inference Time vs Batch Size\")\n",
    "plt.savefig(\"profile_plot.png\", dpi=200)\n",
    "plt.show()"
   ]
  },
  {
   "cell_type": "code",
   "execution_count": null,
   "metadata": {},
   "outputs": [],
   "source": []
  }
 ],
 "metadata": {
  "kernelspec": {
   "display_name": "Python 3",
   "language": "python",
   "name": "python3"
  },
  "language_info": {
   "codemirror_mode": {
    "name": "ipython",
    "version": 3
   },
   "file_extension": ".py",
   "mimetype": "text/x-python",
   "name": "python",
   "nbconvert_exporter": "python",
   "pygments_lexer": "ipython3",
   "version": "3.7.4+"
  }
 },
 "nbformat": 4,
 "nbformat_minor": 2
}
