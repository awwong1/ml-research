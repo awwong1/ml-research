{
 "cells": [
  {
   "cell_type": "code",
   "execution_count": 2,
   "metadata": {},
   "outputs": [],
   "source": [
    "%matplotlib inline\n",
    "import sys\n",
    "sys.path.append(\"..\")"
   ]
  },
  {
   "cell_type": "code",
   "execution_count": 3,
   "metadata": {},
   "outputs": [],
   "source": [
    "import os\n",
    "import pandas as pd\n",
    "import seaborn as sns\n",
    "import matplotlib.pyplot as plt\n",
    "\n",
    "from util.tablogger import TabLogger"
   ]
  },
  {
   "cell_type": "code",
   "execution_count": 5,
   "metadata": {},
   "outputs": [],
   "source": [
    "# load the file from the experiments directory\n",
    "fpath = os.path.join(\n",
    "    \"..\", \"experiments\", \"cifar100-vgg19_bn\", \"out\", \"epoch.out\"\n",
    ")\n",
    "tlog = TabLogger(fpath, resume=True)\n",
    "tlog.close()"
   ]
  },
  {
   "cell_type": "code",
   "execution_count": 6,
   "metadata": {},
   "outputs": [
    {
     "name": "stdout",
     "output_type": "stream",
     "text": [
      "     Epoch  Train Task Loss  Train Acc  Eval Task Loss  Eval Acc     LR\n",
      "0      0.0         4.634870      1.714        4.429041      2.48  0.100\n",
      "1      1.0         4.108153      5.458        3.913987      7.60  0.100\n",
      "2      2.0         3.768436      9.206        3.740293     10.70  0.100\n",
      "3      3.0         3.506148     13.768        3.554013     12.81  0.100\n",
      "4      4.0         3.202085     19.194        3.477156     15.64  0.100\n",
      "..     ...              ...        ...             ...       ...    ...\n",
      "159  159.0         0.010148     99.822        1.446959     73.58  0.001\n",
      "160  160.0         0.010014     99.814        1.454285     73.46  0.001\n",
      "161  161.0         0.009375     99.848        1.453163     73.64  0.001\n",
      "162  162.0         0.009404     99.828        1.447099     73.64  0.001\n",
      "163  163.0         0.009805     99.802        1.448017     73.81  0.001\n",
      "\n",
      "[164 rows x 6 columns]\n"
     ]
    }
   ],
   "source": [
    "# convert into a dataframe\n",
    "df = pd.DataFrame(tlog.numbers)\n",
    "print(df)"
   ]
  },
  {
   "cell_type": "code",
   "execution_count": 7,
   "metadata": {},
   "outputs": [
    {
     "data": {
      "image/png": "[encoded data removed]",
      "text/plain": [
       "<Figure size 432x288 with 1 Axes>"
      ]
     },
     "metadata": {
      "needs_background": "light"
     },
     "output_type": "display_data"
    }
   ],
   "source": [
    "# plot in Seaborn\n",
    "sns.lineplot(x=\"Epoch\", y=\"Train Task Loss\", data=df)\n",
    "plt.show()"
   ]
  },
  {
   "cell_type": "code",
   "execution_count": null,
   "metadata": {},
   "outputs": [],
   "source": []
  }
 ],
 "metadata": {
  "kernelspec": {
   "display_name": "Python 3",
   "language": "python",
   "name": "python3"
  },
  "language_info": {
   "codemirror_mode": {
    "name": "ipython",
    "version": 3
   },
   "file_extension": ".py",
   "mimetype": "text/x-python",
   "name": "python",
   "nbconvert_exporter": "python",
   "pygments_lexer": "ipython3",
   "version": "3.7.4+"
  }
 },
 "nbformat": 4,
 "nbformat_minor": 2
}
